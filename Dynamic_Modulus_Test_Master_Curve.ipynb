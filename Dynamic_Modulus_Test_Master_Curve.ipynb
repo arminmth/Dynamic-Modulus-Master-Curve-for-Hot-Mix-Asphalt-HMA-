{
 "cells": [
  {
   "cell_type": "markdown",
   "metadata": {},
   "source": [
    "# Dynamic Modulus Master Curve for Hot Mix Asphalt (HMA)\n",
    "## Name: SeyedArmin MotahariTabari (arminm@ksu.edu)\n",
    "## Semester: Spring 2020\n",
    "## Project Area: Civil Engineering\n",
    "\n",
    "***\n",
    "## Background \n",
    "\n",
    "Dynamic Modulus, (E) is a complex parameter that relates stress to strain of a linear viscoelastic material as a function of loading rate and temperature. It Describes how the stiffness of HMA mixtures varies over a range of service temperatures and loading traffic rates.\n",
    "\n",
    "Dynamic Modulus master Curves are being constructed based on the time-temperature superposition concept. Collecting data for various temperatures and loading frequencies, producing a smooth single master curve. This program is used in conjunction with the Simple Performance Test System to develop dynamic modulus master curves.  It has the capability to solve a modified version of the Mechanistic-Empirical Design Guide master curve equation, Equation 1.\n",
    "\n",
    "<p style=\"font-family: times, serif; font-size:14pt; font-style:italic\">\n",
    "     log E = $\\frac{(log(Emax)-Log(Emin))}{1+e^(\\beta+\\gamma logw_r)}$ (Equation. 1)\n",
    "</p>\n",
    "\n",
    "where: \n",
    "\n",
    "E = Dynamic Modulus (1/psi)\n",
    "\n",
    "w$_r$ = Reduced Frequency at the reference temprature, (Hz)\n",
    "\n",
    "Emax = Limiting Maximum Modulus, psi\n",
    "\n",
    "Emin = Limiting Minimum Modulus, psi\n",
    "\n",
    "$\\beta$, and $\\gamma$ : Fitting Parameters\n",
    "\n",
    "## Objective\n",
    " \n",
    "The Objective is to solve a \"modified version of the Mechanistic-Empirical Design Guide master curve equation\". This program reads directly the raw output data related to a series of tests performed for a single Hot Mix Asphalt Material from extracted .csv files. and reports all the required results in Tables 1 & 2 and Figures 1 & 2, including Dynamic modulus lab values at defined test temperatures and frequencies, and also Dynamic modulus Master Curve Values at selected reference temprature and reduced frequencies.\n",
    "\n",
    "## An overview of program workflow\n",
    "First, laboratory values of Dynamic Modulus (E) in three different tempratures (Usually 4, 21, and 37 Celsius degrees) , and three different frequencies (Usually 0.1, 1.0, and 10.0 Hz) are read from CSV. files. \n",
    "\n",
    "On the other hand, theoretically, ٍequation 1 is established for measuring E. This program finds fitting parameters values Using an optimization function so that with optimized generated fitting parameters the difference between theoretical and laboratory values of dynamic modulus becomes minimal.\n",
    "\n",
    "To draw the final master curve, the laboratory values are shifted using shift factors (Equations 2a and 2b), from the tested temperatures curves, to the reference temperature curve, as well as from the tested frequencies to the reduced frequencies.\n",
    "\n",
    "<p style=\"font-family: times, serif; font-size:14pt; font-style:italic\">\n",
    "     logw$_r$ = logw + loga(T) (Equation. 2a)\n",
    "</p>\n",
    "<p style=\"font-family: times, serif; font-size:14pt; font-style:italic\">\n",
    "     loga(T) = $\\frac{EA}{19.14714}$ ($\\frac{1}{T}$ - $\\frac{1}{T_r}$)  (Equation. 2b)\n",
    "</p>\n",
    "\n",
    "where: \n",
    "\n",
    "a(T) = shift factor at temperature T\n",
    "\n",
    "w = loading frequency at the test temperature\n",
    "\n",
    "T$_r$ = reference temperature\n",
    "\n",
    "T = test temperature\n",
    "\n",
    "EA = activation energy (treated as a fitting parameter)\n",
    "\n",
    "Finally, the master curve can be completed using Equation 1, with optimized fit parameters for any arbitrary range of frequencies.\n",
    "***\n",
    "## References\n",
    "\n",
    "(1) Standard Test Method for Dynamic Modulus of Asphalt Concrete Mixtures. National Cooperative Highway Research Program 1-37A Provisional Test Method DM-1, Arizona State University, June 2002. \n",
    "\n",
    "(2) Huang, Y. H. (1993). Pavement analysis and design.\n",
    "***\n"
   ]
  },
  {
   "cell_type": "code",
   "execution_count": 44,
   "metadata": {},
   "outputs": [],
   "source": [
    "# Import modules\n",
    "import pandas as pd\n",
    "import numpy as np\n",
    "import matplotlib.pyplot as plt\n",
    "from scipy.optimize import minimize"
   ]
  },
  {
   "cell_type": "markdown",
   "metadata": {},
   "source": [
    "### Temperatures and Frequencies\n",
    "Specify performed tests and reference temperatures and also desired frequencies for calculations."
   ]
  },
  {
   "cell_type": "code",
   "execution_count": 45,
   "metadata": {},
   "outputs": [],
   "source": [
    "# Define low temprature\n",
    "temp1 = 4\n",
    "\n",
    "# Define Moderate temprature\n",
    "temp2 = 21\n",
    "\n",
    "# Define High Temp\n",
    "temp3 = 37\n",
    "\n",
    "# Define Reference Temprature for master curve\n",
    "ref_temp = 18\n",
    "\n",
    "# Define three Desired frequencies to read from csv files\n",
    "freq = ['0.1 Hz', '1 Hz', '10 Hz']"
   ]
  },
  {
   "cell_type": "markdown",
   "metadata": {},
   "source": [
    "### Processfile Function\n",
    "This Function reads the csv output files. It skips the additinal lines which are not required for goals of this program, and finds laboratorial Dynamic Modulus values in frequensies which are defined above. For each temperature and frequency we have three Dynamic Modulus values. Using a lambda function, these values can be averaged and converted from 1/kPa to 1/psi. \n",
    "\n"
   ]
  },
  {
   "cell_type": "code",
   "execution_count": 46,
   "metadata": {},
   "outputs": [],
   "source": [
    "def processfile(filename1, filename2, filename3, freq):\n",
    "    \n",
    "    # Skip extra lines up to line no.27 to reach to Dynamic Modulus values\n",
    "    i= 27\n",
    "    \n",
    "    \n",
    "    # Read Dynamic modulus values from csv files\n",
    "    df_test1 = pd.read_csv(filename1, skiprows= i , encoding= 'unicode_escape')\n",
    "    df_test2 = pd.read_csv(filename2, skiprows= i , encoding= 'unicode_escape')\n",
    "    df_test3 = pd.read_csv(filename3, skiprows= i , encoding= 'unicode_escape')\n",
    "    \n",
    "    # Find Dynamic modulus test values in three defined frequencies\n",
    "    E_temp1_1=df_test1.loc[[0], freq ]\n",
    "    E_temp1_2=df_test2.loc[[0], freq ]\n",
    "    E_temp1_3=df_test3.loc[[0], freq ]\n",
    "    \n",
    "    # Arrange Dynamic modulus test values in an array-like structure \n",
    "    E_temp1_1_array=np.array(E_temp1_1)\n",
    "    E_temp1_2_array=np.array(E_temp1_2) \n",
    "    E_temp1_3_array=np.array(E_temp1_3) \n",
    "    \n",
    "    # Average Dynamic modulus test values and convert from 1/kPa to 1/psi\n",
    "    lab_E_output_psi = lambda E1,E2,E3: (np.array(E1) + np.array(E2) + np.array(E3))/3 * 0.145 \n",
    "\n",
    "    # List of Dynamic Modulus values for each temperature in three frequencies\n",
    "    E_temp = lab_E_output_psi(E_temp1_1_array, E_temp1_2_array, E_temp1_3_array)\n",
    "    return E_temp;\n",
    "\n"
   ]
  },
  {
   "cell_type": "markdown",
   "metadata": {},
   "source": [
    "### Test Outputs\n",
    "Copy/Paste the file names which the program is going to read Dynamic Modulus values in defined frequenies and temperatures (Three files for each temparature). This program is defined based on row csv outputs of IPC global Asphalt Materials Performance Testing (AMPT) Machine software. the naming of these output files can be done by user, based on sample name, mixture number, test temparature, etc. using processfile function, we have the average Dynamic Modulus value for each temperature and frequency in 1/psi. "
   ]
  },
  {
   "cell_type": "code",
   "execution_count": 47,
   "metadata": {},
   "outputs": [],
   "source": [
    "\n",
    "# Read and Process Dynamic Modulus values in defined frequenies from three files at low temperature. \n",
    "E_temp1 = processfile ('Dataset/Armin-10-4C (4G16013A)_Sum.csv','Dataset/Armin-11-4C-Repeated (4G16013A)_Sum.csv', 'Dataset/Armin-13-4C (4G16013A)_Sum.csv', freq)\n",
    "\n",
    "# Read and Process Dynamic Modulus values in defined frequenies from three files at moderate temperature. \n",
    "E_temp2 = processfile ('Dataset/Armin-10-21C (4G16013A)_Sum.csv','Dataset/Armin-11-21C- (4G16013A)_Sum.csv', 'Dataset/Armin-13-21C (4G16013A)_Sum.csv' , freq)\n",
    "\n",
    "# Read and Process Dynamic Modulus values in defined frequenies from three files at High temperature. \n",
    "E_temp3 = processfile ('Dataset/Armin-10-37C (4G16013A)_Sum.csv','Dataset/Armin-11-37C-Repeated (4G16013A)_Sum.csv', 'Dataset/Armin-13-37C (4G16013A)_Sum.csv' , freq)\n",
    "\n"
   ]
  },
  {
   "cell_type": "markdown",
   "metadata": {},
   "source": [
    "### Make Lab Daynamic Modulus Values Arranged and Well-organized\n",
    "\n",
    "It is required to have all the logarithm values of dynamic modulus in an array-like structure for comparing with theoritical values and optimizing fitting parameters which are mentioned in introduction. "
   ]
  },
  {
   "cell_type": "code",
   "execution_count": 48,
   "metadata": {},
   "outputs": [],
   "source": [
    "# Put all Average Dynamic Modulus values in an array-like structure for next stage calculations\n",
    "E=np.array([E_temp1[0][0], E_temp1[0][1], E_temp1[0][2], E_temp2[0][0], E_temp2[0][1], E_temp2[0][2], E_temp3[0][0], E_temp3[0][1], E_temp3[0][2]])\n",
    "\n",
    "# Log of all Average Dynamic Modulus values in an-array like structure for next stage calculations\n",
    "log_E=np.log10(E)\n"
   ]
  },
  {
   "cell_type": "markdown",
   "metadata": {},
   "source": [
    "### Maximum Limiting Modulus (Emax)\n",
    "\n",
    "The maximum limiting modulus (Emax) is estimated from mixture volumetric properties (VMA, VFA, and Pc, using the Hirsch model (Defined in Emax Calculation code), where VMA is voids in mineral aggregates, and VFA is voids filled with asphalt. User have to input these two volumetric properties based on available data for tested mixture. As you can follow in three next cells, the program calculates volumetric coefficient of Pc and finally the Emax. "
   ]
  },
  {
   "cell_type": "code",
   "execution_count": 49,
   "metadata": {},
   "outputs": [
    {
     "name": "stdin",
     "output_type": "stream",
     "text": [
      "Enter Voids in mineral aggregates VMA in %: 14.9\n",
      "Enter Voids in mineral aggregates VFA in %: 74\n"
     ]
    }
   ],
   "source": [
    "# Request Volumetric Properties of Materials\n",
    "\n",
    "# Request VMA\n",
    "VMA = input('Enter Voids in mineral aggregates VMA in %:')\n",
    "VMA = float(VMA)\n",
    "\n",
    "# Request VFA\n",
    "VFA = input('Enter Voids in mineral aggregates VFA in %:')\n",
    "VFA = float(VFA)\n"
   ]
  },
  {
   "cell_type": "code",
   "execution_count": 50,
   "metadata": {},
   "outputs": [],
   "source": [
    "# Calculate coefficient of Pc\n",
    "Pc = ((20+(VFA*3*145000)/(VMA))**0.58)/(650+((VFA*3*145000)/VMA)**0.58)\n"
   ]
  },
  {
   "cell_type": "code",
   "execution_count": 51,
   "metadata": {},
   "outputs": [],
   "source": [
    "# Calculate limiting maximum mixture dynamic modulus\n",
    "E_max=(Pc*(4200000*(1-VMA/100)+3*145000*(VMA*VFA)/10000)+(1-Pc)/((1-VMA/100)/4200000 +VMA/(3*VFA*145000)))/1000\n",
    "\n",
    "# Log of limiting maximum mixture dynamic modulus\n",
    "log_E_max=np.log10(E_max)\n"
   ]
  },
  {
   "cell_type": "markdown",
   "metadata": {},
   "source": [
    "### Arrhenius Temperature Shift Factors\n",
    "Log Emin, $\\beta$, $\\gamma$, and EA are Arrhenius Temperature Shift Factors which can be find in equations 1, and 2b. As it is noted in introduction, this program uses an optimizing function to minimize the sum of the squared errors between the measured values (In Lab) and predicted values (Eq. 1).  Initial estimates for the optimization should be input in following cell.  Suggested initial estimates are also given in request statements of each parameter.  After optimizing sum of the squared errors equation, the final values of the master curve parameters are given. \n",
    "\n"
   ]
  },
  {
   "cell_type": "code",
   "execution_count": 52,
   "metadata": {},
   "outputs": [
    {
     "name": "stdin",
     "output_type": "stream",
     "text": [
      "Enter an initial value for Log(min): (Suggested: Log(min) = 0.5) 0.5\n",
      "Enter an initial value for Beta: (Suggested: Beta= -1) -1\n",
      "Enter an initial value for Gamma: (Suggested:  Gamma= -0.5) -0.54\n",
      "Enter an initial value for EA: (Suggested: EA = 200000) 200000\n"
     ]
    }
   ],
   "source": [
    "# Request initial guess of Arrhenius temperature shift factors\n",
    "\n",
    "# Request initial guess of Log_min\n",
    "log_min_initial = input('Enter an initial value for Log(min): (Suggested: Log(min) = 0.5)')\n",
    "log_min_initial = float(log_min_initial) \n",
    "\n",
    "# Request initial guess of beta\n",
    "beta_initial = input('Enter an initial value for Beta: (Suggested: Beta= -1)')\n",
    "beta_initial = float(beta_initial) \n",
    "\n",
    "# Request initial guess of gamma\n",
    "gamma_initial = input('Enter an initial value for Gamma: (Suggested:  Gamma= -0.5)')\n",
    "gamma_initial = float(gamma_initial) \n",
    "\n",
    "# Request initial guess of EA\n",
    "EA_initial = input('Enter an initial value for EA: (Suggested: EA = 200000)')\n",
    "EA_initial = float(EA_initial)\n",
    "\n"
   ]
  },
  {
   "cell_type": "markdown",
   "metadata": {},
   "source": [
    "### Optimizing Function\n",
    "\n",
    "Substituting Equation 2b into 2a and 2a in Equation 1 yields the form of the master curve (equation 3) that is we are going to fit using this program. In following cell, some of the phrases of this long equation are defined as shorter phrases to make it easier to write the equation in return part of the optimization function. In retrun part, theoretical dynamic modulus values in three temperatures and three frequencies are calculated using equation 3 and subtracted from lab values (nine E values for each) and the whole equation is reached to the power of two to measure sum of the squared errors value, first with initial guess of Arrhenius temperature shift factors, then minimize this equation by finding optimized shift factors.\n",
    "<p style=\"font-family: times, serif; font-size:14pt; font-style:italic\">\n",
    "     log E = $\\frac{(log(Emax)-Log(Emin))}{1+e^(\\beta+\\gamma logw + \\frac{EA}{19.14714} (\\frac{1}{T} - \\frac{1}{T_r}))}$ (Equation. 3)\n",
    "</p>\n",
    "\n"
   ]
  },
  {
   "cell_type": "code",
   "execution_count": 53,
   "metadata": {},
   "outputs": [],
   "source": [
    "# Define objective to find optimize Arrhenius temperature shift factors values\n",
    "def objective(x) :\n",
    "    \n",
    "    # Get values from input\n",
    "    x1=x[0]  \n",
    "    x2=x[1]\n",
    "    x3=x[2]\n",
    "    x4=x[3]\n",
    "    \n",
    "    # Make sum of the squared errors equation shorter\n",
    "    x4_factor = x4/19.147142           # Instead of first part of equation 2b\n",
    "    log_max_factor = (log_E_max-x1)    # Instead of LogEmax - LogEmin in equation 1\n",
    "    frq_factor1 = np.log10(0.1)        # Log of freq[0] = 0.1 Hz in equation 2a\n",
    "    frq_factor2 = np.log10(1)          # Log of freq[1] = 1.0 Hz in equation 2a\n",
    "    frq_factor3 = np.log10(10)         # Log of freq[2] = 10.0 Hz in equation 2a\n",
    "    temp1k = 273.2+temp1               # Converting temp1 from Celsius to Kelvin in equation 2b\n",
    "    temp2k = 273.2+temp2               # Converting temp2 from Celsius to Kelvin in equation 2b\n",
    "    temp3k = 273.2+temp3               # Converting temp3 from Celsius to Kelvin in equation 2b\n",
    "    ref_tempk = ref_temp+273.2         # Converting reference temp from Celsius to Kelvin in equation 2b\n",
    "    \n",
    "    \n",
    "    # Return Equation 3 for measuring nine theoritical E Values subtracted from LAB values, whole in power of 2\n",
    "    return (x1+log_max_factor/(1+np.exp(x2+x3*(frq_factor1+x4_factor*(1/temp1k-1/ref_tempk)))) + x1+log_max_factor/(1+np.exp(x2+x3*(frq_factor2+x4_factor*(1/temp1k-1/ref_tempk)))) + x1+log_max_factor/(1+np.exp(x2+x3*(frq_factor3+x4_factor*(1/temp1k-1/ref_tempk)))) + x1+log_max_factor/(1+np.exp(x2+x3*(frq_factor1+x4_factor*(1/temp2k-1/ref_tempk)))) + x1+log_max_factor/(1+np.exp(x2+x3*(frq_factor2+x4_factor*(1/temp2k-1/ref_tempk)))) + x1+log_max_factor/(1+np.exp(x2+x3*(frq_factor3+x4_factor*(1/temp2k-1/ref_tempk)))) + x1+log_max_factor/(1+np.exp(x2+x3*(frq_factor1+x4_factor*(1/temp3k-1/ref_tempk)))) + x1+log_max_factor/(1+np.exp(x2+x3*(frq_factor2+x4_factor*(1/temp3k-1/ref_tempk)))) + x1+log_max_factor/(1+np.exp(x2+x3*(frq_factor3+x4_factor*(1/temp3k-1/ref_tempk))))- log_E[8] - log_E[7] - log_E[6] - log_E[5] - log_E[4] - log_E[3] - log_E[2] - log_E[1] - log_E[0])**2\n"
   ]
  },
  {
   "cell_type": "code",
   "execution_count": 54,
   "metadata": {},
   "outputs": [],
   "source": [
    "# Read initial fit parameters to start optimization\n",
    "x0 = [log_min_initial,beta_initial,gamma_initial,EA_initial]\n"
   ]
  },
  {
   "cell_type": "code",
   "execution_count": 55,
   "metadata": {},
   "outputs": [
    {
     "name": "stdout",
     "output_type": "stream",
     "text": [
      "     fun: 7.643416680781207e-12\n",
      "     jac: array([ 1.61787925e-05, -2.73000919e-05,  2.26322525e-05, -5.14136522e-11])\n",
      " message: 'Optimization terminated successfully.'\n",
      "    nfev: 20\n",
      "     nit: 3\n",
      "    njev: 3\n",
      "  status: 0\n",
      " success: True\n",
      "       x: array([ 5.20668943e-01, -1.02652660e+00, -5.21476433e-01,  2.00000000e+05])\n"
     ]
    }
   ],
   "source": [
    "# Solver function to minimze the objective equation (error square)\n",
    "sol = minimize(objective,x0,method='SLSQP')\n",
    "print(sol)"
   ]
  },
  {
   "cell_type": "code",
   "execution_count": 56,
   "metadata": {},
   "outputs": [
    {
     "data": {
      "text/plain": [
       "array([ 5.20668943e-01, -1.02652660e+00, -5.21476433e-01,  2.00000000e+05])"
      ]
     },
     "execution_count": 56,
     "metadata": {},
     "output_type": "execute_result"
    }
   ],
   "source": [
    "# Optimized Arrhenius temperature shift factors in array\n",
    "sol.x"
   ]
  },
  {
   "cell_type": "code",
   "execution_count": 57,
   "metadata": {},
   "outputs": [],
   "source": [
    "# Define optimized Arrhenius temperature shift factors for next calculations\n",
    "log_min=sol.x[0]\n",
    "beta=sol.x[1]\n",
    "gamma=sol.x[2]\n",
    "EA=sol.x[3]\n"
   ]
  },
  {
   "cell_type": "markdown",
   "metadata": {},
   "source": [
    "### Shift Factors\n",
    "\n",
    "As you can see in Figure 1, after ruuning the code, we have three big points for each temprature in three frequiencies which are our lab results. Using shift factor (Equation 2b) we want to shift all of these points to a single smooth curve in reference temperature which are shown by smaller points in Figure 1. As you can see in following cell, shift Factors are function of EA, test temperature, and reference temperature. For generating master curve, The big points are replaced with small points in reduced frequencies which are calculated usung equation 2a. "
   ]
  },
  {
   "cell_type": "code",
   "execution_count": 58,
   "metadata": {},
   "outputs": [],
   "source": [
    "# Define lambda function to calculate shif factors at each temprature\n",
    "shift_factor = lambda a,b,c: a/19.147143*(1/(b+273.2)-1/(c+273.2))\n",
    "\n",
    "# Shift factor for values at temp_1\n",
    "logat_temp1= shift_factor(EA,temp1,ref_temp)\n",
    "\n",
    "# Shift factor for values at temp_2\n",
    "logat_temp2= shift_factor(EA,temp2,ref_temp)\n",
    "\n",
    "# Shift factor for values at temp_3\n",
    "logat_temp3= shift_factor(EA,temp3,ref_temp)\n",
    "\n"
   ]
  },
  {
   "cell_type": "code",
   "execution_count": 59,
   "metadata": {},
   "outputs": [],
   "source": [
    "# Define a function to calculate reduced frequency based on shift factor and main frequency\n",
    "def wr_temp(logat_temp):\n",
    "    \n",
    "    # Calculate reduced frequency at the reference temperature (wr) for 0.1 Hz, Low Temprature\n",
    "    wr_temp_x = 10**(logat_temp + np.log10(0.1))\n",
    "    \n",
    "    # Calculate reduced frequency at the reference temperature (wr) for 1 Hz, Moderate Temprature\n",
    "    wr_temp_y = 10**(logat_temp + np.log10(1))\n",
    "    \n",
    "    # Calculate reduced frequency at the reference temperature (wr) for 10 Hz, High Temprature\n",
    "    wr_temp_z = 10**(logat_temp + np.log10(10))\n",
    "    \n",
    "    # Put all reduced frequency values in an-array like structure \n",
    "    wr_temp=np.array([wr_temp_x,wr_temp_y,wr_temp_z])\n",
    "    return wr_temp;"
   ]
  },
  {
   "cell_type": "code",
   "execution_count": 60,
   "metadata": {},
   "outputs": [],
   "source": [
    "# Put all reduced frequency values in an-array like structure \n",
    "wr_temp1= wr_temp(logat_temp1)\n",
    "wr_temp2= wr_temp(logat_temp2)\n",
    "wr_temp3= wr_temp(logat_temp3)\n"
   ]
  },
  {
   "cell_type": "markdown",
   "metadata": {},
   "source": [
    "### Dynamic Modulus Values on the Master Curve\n",
    "After all the process, now we are able to calculate dynamic modulus values for master curve in defined reference temperature using equation 1, and optimized Arrhenius factors for any desired frequency in \"wr_master\" list. \n",
    "\n"
   ]
  },
  {
   "cell_type": "code",
   "execution_count": 61,
   "metadata": {},
   "outputs": [],
   "source": [
    "# Calculate shifted E values from each temprature to reference temprature using shift factors\n",
    "\n",
    "\n",
    "# Red small points in Figure 01\n",
    "log_E_final_temp1 = np.zeros(len(wr_temp1))\n",
    "for i in range(len(wr_temp1)):\n",
    "    log_E_final_temp1[i]= log_min + (log_E_max-log_min)/(1+np.exp(beta+gamma*np.log10(wr_temp1[i])))\n",
    "\n",
    "E_final_temp1 = 10**log_E_final_temp1\n",
    "\n",
    "\n",
    "# Purple small points in Figure 01\n",
    "log_E_final_temp2 = np.zeros(len(wr_temp2))\n",
    "for i in range(len(wr_temp2)):\n",
    "    log_E_final_temp2[i]= log_min + (log_E_max-log_min)/(1+np.exp(beta+gamma*np.log10(wr_temp2[i])))\n",
    "\n",
    "E_final_temp2 = 10**log_E_final_temp2\n",
    "\n",
    "\n",
    "# Black small points in Figure 01\n",
    "log_E_final_temp3 = np.zeros(len(wr_temp3))\n",
    "for i in range(len(wr_temp1)):\n",
    "    log_E_final_temp3[i]= log_min + (log_E_max-log_min)/(1+np.exp(beta+gamma*np.log10(wr_temp3[i])))\n",
    "\n",
    "E_final_temp3 = 10**log_E_final_temp3\n",
    "\n"
   ]
  },
  {
   "cell_type": "code",
   "execution_count": 62,
   "metadata": {},
   "outputs": [],
   "source": [
    "# Reduced Frequencies considered for master curve\n",
    "wr_master = [0.000001, 0.00001, 0.0001, 0.001, 0.01, 0.1 , 1, 10, 100, 1000, 10000, 100000, 1000000]\n"
   ]
  },
  {
   "cell_type": "code",
   "execution_count": 63,
   "metadata": {},
   "outputs": [],
   "source": [
    "# Calculate Master Dynamic Modulus curve values for defined reduced frequencies\n",
    "log_E_master = np.zeros(len(wr_master))\n",
    "for i in range(len(wr_master)):\n",
    "    log_E_master[i]= log_min + (log_E_max-log_min)/(1+np.exp(beta+gamma*np.log10(wr_master[i])))\n",
    "\n",
    "E_master = 10**log_E_master"
   ]
  },
  {
   "cell_type": "markdown",
   "metadata": {},
   "source": [
    "### Dynamic modulus lab Outputs\n",
    "As a part of final outputs, It is required to have summerized Dynamic modulus lab values in a table. a DataFrame is used to have Dynamic modulus values at the defined temperatures and frequencies required by the Mechanistic Emprical Pavement Desgin Guide (MEPDG) in Table 1 which are also shown as big Red, Purpule, and black points in Figure 1. As you can follow up in figure 1, the big points shifted from their own temperature and frequencies to reference temperature and reduced frequencies and turned to small points, then a smooth master curve is established based on calculated parameters. "
   ]
  },
  {
   "cell_type": "code",
   "execution_count": 74,
   "metadata": {},
   "outputs": [
    {
     "name": "stdout",
     "output_type": "stream",
     "text": [
      "Table 1 - Dynamic modulus values at the temperatures and frequencies required by the Mechanistic Emprical Pavement Desgin Guide (MEPDG) \n"
     ]
    },
    {
     "data": {
      "text/html": [
       "<div>\n",
       "<style scoped>\n",
       "    .dataframe tbody tr th:only-of-type {\n",
       "        vertical-align: middle;\n",
       "    }\n",
       "\n",
       "    .dataframe tbody tr th {\n",
       "        vertical-align: top;\n",
       "    }\n",
       "\n",
       "    .dataframe thead th {\n",
       "        text-align: right;\n",
       "    }\n",
       "</style>\n",
       "<table border=\"1\" class=\"dataframe\">\n",
       "  <thead>\n",
       "    <tr style=\"text-align: right;\">\n",
       "      <th></th>\n",
       "      <th>Temprature (C)</th>\n",
       "      <th>0.1 Hz</th>\n",
       "      <th>1 Hz</th>\n",
       "      <th>10 Hz</th>\n",
       "    </tr>\n",
       "  </thead>\n",
       "  <tbody>\n",
       "    <tr>\n",
       "      <td>0</td>\n",
       "      <td>4</td>\n",
       "      <td>903.12</td>\n",
       "      <td>1443.86</td>\n",
       "      <td>1983.69</td>\n",
       "    </tr>\n",
       "    <tr>\n",
       "      <td>1</td>\n",
       "      <td>21</td>\n",
       "      <td>181.21</td>\n",
       "      <td>414.82</td>\n",
       "      <td>816.02</td>\n",
       "    </tr>\n",
       "    <tr>\n",
       "      <td>2</td>\n",
       "      <td>37</td>\n",
       "      <td>36.15</td>\n",
       "      <td>85.98</td>\n",
       "      <td>209.99</td>\n",
       "    </tr>\n",
       "  </tbody>\n",
       "</table>\n",
       "</div>"
      ],
      "text/plain": [
       "   Temprature (C)  0.1 Hz     1 Hz    10 Hz\n",
       "0               4  903.12  1443.86  1983.69\n",
       "1              21  181.21   414.82   816.02\n",
       "2              37   36.15    85.98   209.99"
      ]
     },
     "execution_count": 74,
     "metadata": {},
     "output_type": "execute_result"
    }
   ],
   "source": [
    "# Use DataFrame to have lab Dynamic modulus values \n",
    "\n",
    "d1={'Temprature (C)': [temp1,temp2,temp3], freq[0]: np.round([E_final_temp1[0], E_final_temp2[0], E_final_temp3[0]], decimals=2), freq[1]: np.round([E_final_temp1[1], E_final_temp2[1], E_final_temp3[1]], decimals=2), freq[2]: np.round([E_final_temp1[2], E_final_temp2[2], E_final_temp3[2]], decimals=2)}\n",
    "table1= pd.DataFrame(data=d1)\n",
    "print(\"Table 1 - Dynamic modulus values at the temperatures and frequencies required by the Mechanistic Emprical Pavement Desgin Guide (MEPDG) \")\n",
    "\n",
    "# Show the DataFrame\n",
    "table1"
   ]
  },
  {
   "cell_type": "code",
   "execution_count": 76,
   "metadata": {},
   "outputs": [
    {
     "data": {
      "image/png": "[encoded data removed]",
      "text/plain": [
       "<Figure size 1440x720 with 1 Axes>"
      ]
     },
     "metadata": {
      "needs_background": "light"
     },
     "output_type": "display_data"
    }
   ],
   "source": [
    "# Plot Figure 1 with specified size\n",
    "plt.figure(figsize=(20,10))\n",
    "\n",
    "# Plot Each Parameter with specify color, shape, and legend\n",
    "plt.plot([0.1,1,10], [E_temp1[0][0], E_temp1[0][1], E_temp1[0][2]], 'ro', markersize=14, label=\"E Lab Values at 4c\" )\n",
    "plt.plot([0.1,1,10], [E_temp2[0][0], E_temp2[0][1], E_temp2[0][2]], 'mx', markersize=14, label=\"E Lab Values at 21c\" )\n",
    "plt.plot([0.1,1,10], [E_temp3[0][0], E_temp3[0][1], E_temp3[0][2]], 'k^', markersize=14, label=\"E Lab Values at 37c\" )\n",
    "plt.plot(wr_temp1,E_final_temp1, 'ro', markersize = 10, label=\"E Values at 4c after shifting\") \n",
    "plt.plot(wr_temp2,E_final_temp2, 'mx', markersize = 10, label=\"E Values at 21c after shifting\")\n",
    "plt.plot(wr_temp3,E_final_temp3, 'k^', markersize = 10, label=\"E Values at 37c after shifting\") \n",
    "plt.plot(wr_master,E_master, 'b--', label=\"Final Master Curve\")\n",
    "\n",
    "# Plot Defined legends\n",
    "plt.legend()\n",
    "\n",
    "# Plot Axis Titles\n",
    "plt.ylabel(\"Dynamic Modulus, E (1/psi)\", size=16)\n",
    "plt.xlabel(\"Frequency, w (Hz)\", size=16)\n",
    "\n",
    "# Turn both axis to log-scale\n",
    "plt.xscale('log')\n",
    "plt.yscale('log')\n",
    "\n",
    "plt.yticks(fontsize=16)\n",
    "plt.xticks(fontsize=16)\n",
    "\n",
    "# Add title to figure 1\n",
    "plt.title('Figure 1 - Dynamic modulus Lab values and shifting procedure to draw the Dynamic Modulus Master Curve', fontsize=16)\n",
    "\n",
    "# Add grid lines\n",
    "plt.grid(color='k', linestyle='--', linewidth=0.25)\n",
    "plt.grid(which='minor', color='r', linestyle='--', linewidth=0.1)\n",
    "\n",
    "plt.show()"
   ]
  },
  {
   "cell_type": "markdown",
   "metadata": {},
   "source": [
    "### Dynamic modulus Master Curve Outputs\n",
    "The most important part of final outputs are Dynamic modulus Master Curve Values at selected reference temprature and reduced frequencies which is shown in table 2 and figure 2. \n"
   ]
  },
  {
   "cell_type": "code",
   "execution_count": 68,
   "metadata": {},
   "outputs": [
    {
     "name": "stdout",
     "output_type": "stream",
     "text": [
      "Table2 - Dynamic modulus values on the Master Curve in reduced frequencies and reference temperature\n"
     ]
    },
    {
     "data": {
      "text/html": [
       "<div>\n",
       "<style scoped>\n",
       "    .dataframe tbody tr th:only-of-type {\n",
       "        vertical-align: middle;\n",
       "    }\n",
       "\n",
       "    .dataframe tbody tr th {\n",
       "        vertical-align: top;\n",
       "    }\n",
       "\n",
       "    .dataframe thead th {\n",
       "        text-align: right;\n",
       "    }\n",
       "</style>\n",
       "<table border=\"1\" class=\"dataframe\">\n",
       "  <thead>\n",
       "    <tr style=\"text-align: right;\">\n",
       "      <th></th>\n",
       "      <th>Reduced Frequencies (HZ)</th>\n",
       "      <th>Dynamic Modulus at Refrence Tempreture(1/psi)</th>\n",
       "    </tr>\n",
       "  </thead>\n",
       "  <tbody>\n",
       "    <tr>\n",
       "      <td>0</td>\n",
       "      <td>0.000001</td>\n",
       "      <td>7.05</td>\n",
       "    </tr>\n",
       "    <tr>\n",
       "      <td>1</td>\n",
       "      <td>0.000010</td>\n",
       "      <td>10.81</td>\n",
       "    </tr>\n",
       "    <tr>\n",
       "      <td>2</td>\n",
       "      <td>0.000100</td>\n",
       "      <td>19.71</td>\n",
       "    </tr>\n",
       "    <tr>\n",
       "      <td>3</td>\n",
       "      <td>0.001000</td>\n",
       "      <td>42.57</td>\n",
       "    </tr>\n",
       "    <tr>\n",
       "      <td>4</td>\n",
       "      <td>0.010000</td>\n",
       "      <td>102.69</td>\n",
       "    </tr>\n",
       "    <tr>\n",
       "      <td>5</td>\n",
       "      <td>0.100000</td>\n",
       "      <td>248.66</td>\n",
       "    </tr>\n",
       "    <tr>\n",
       "      <td>6</td>\n",
       "      <td>1.000000</td>\n",
       "      <td>542.14</td>\n",
       "    </tr>\n",
       "    <tr>\n",
       "      <td>7</td>\n",
       "      <td>10.000000</td>\n",
       "      <td>999.59</td>\n",
       "    </tr>\n",
       "    <tr>\n",
       "      <td>8</td>\n",
       "      <td>100.000000</td>\n",
       "      <td>1549.02</td>\n",
       "    </tr>\n",
       "    <tr>\n",
       "      <td>9</td>\n",
       "      <td>1000.000000</td>\n",
       "      <td>2077.09</td>\n",
       "    </tr>\n",
       "    <tr>\n",
       "      <td>10</td>\n",
       "      <td>10000.000000</td>\n",
       "      <td>2506.15</td>\n",
       "    </tr>\n",
       "    <tr>\n",
       "      <td>11</td>\n",
       "      <td>100000.000000</td>\n",
       "      <td>2816.48</td>\n",
       "    </tr>\n",
       "    <tr>\n",
       "      <td>12</td>\n",
       "      <td>1000000.000000</td>\n",
       "      <td>3024.54</td>\n",
       "    </tr>\n",
       "  </tbody>\n",
       "</table>\n",
       "</div>"
      ],
      "text/plain": [
       "    Reduced Frequencies (HZ)  Dynamic Modulus at Refrence Tempreture(1/psi)\n",
       "0                   0.000001                                           7.05\n",
       "1                   0.000010                                          10.81\n",
       "2                   0.000100                                          19.71\n",
       "3                   0.001000                                          42.57\n",
       "4                   0.010000                                         102.69\n",
       "5                   0.100000                                         248.66\n",
       "6                   1.000000                                         542.14\n",
       "7                  10.000000                                         999.59\n",
       "8                 100.000000                                        1549.02\n",
       "9                1000.000000                                        2077.09\n",
       "10              10000.000000                                        2506.15\n",
       "11             100000.000000                                        2816.48\n",
       "12            1000000.000000                                        3024.54"
      ]
     },
     "execution_count": 68,
     "metadata": {},
     "output_type": "execute_result"
    }
   ],
   "source": [
    "\n",
    "# Use DataFrame to have Master Curve Dynamic modulus values\n",
    "d2= {'Reduced Frequencies (HZ)': wr_master, 'Dynamic Modulus at Refrence Tempreture(1/psi)': np.round(E_master, decimals=2)}\n",
    "table2= pd.DataFrame(data=d2)\n",
    "print(\"Table2 - Dynamic modulus values on the Master Curve in reduced frequencies and reference temperature\")\n",
    "\n",
    "# Show the DataFrame\n",
    "table2"
   ]
  },
  {
   "cell_type": "code",
   "execution_count": 67,
   "metadata": {},
   "outputs": [
    {
     "data": {
      "image/png": "[encoded data removed]",
      "text/plain": [
       "<Figure size 1440x720 with 1 Axes>"
      ]
     },
     "metadata": {
      "needs_background": "light"
     },
     "output_type": "display_data"
    }
   ],
   "source": [
    "# Plot Figure 2 with specified size\n",
    "plt.figure(figsize=(20,10))\n",
    "plt.plot(wr_master,E_master)\n",
    "\n",
    "# Plot Axis Titles\n",
    "plt.ylabel(\"Dynamic Modulus, E (1/psi)\", size=16)\n",
    "plt.xlabel(\"Reduced Frequency, w$_r$ (Hz)\", size=16)\n",
    "\n",
    "# Turn both axis to log-scale\n",
    "plt.xscale('log')\n",
    "plt.yscale('log')\n",
    "\n",
    "# Add title to figure 2\n",
    "plt.title('Figure 2 - Dynamic modulus Master Curve', fontsize=16)\n",
    "\n",
    "plt.yticks(fontsize=16)\n",
    "plt.xticks(fontsize=16)\n",
    "\n",
    "# Add grid lines\n",
    "plt.grid(color='k', linestyle='--', linewidth=0.25)\n",
    "plt.grid(which='minor', color='r', linestyle='--', linewidth=0.1)\n",
    "\n",
    "\n",
    "\n",
    "plt.show()"
   ]
  }
 ],
 "metadata": {
  "kernelspec": {
   "display_name": "Python 3",
   "language": "python",
   "name": "python3"
  },
  "language_info": {
   "codemirror_mode": {
    "name": "ipython",
    "version": 3
   },
   "file_extension": ".py",
   "mimetype": "text/x-python",
   "name": "python",
   "nbconvert_exporter": "python",
   "pygments_lexer": "ipython3",
   "version": "3.7.4"
  }
 },
 "nbformat": 4,
 "nbformat_minor": 4
}
